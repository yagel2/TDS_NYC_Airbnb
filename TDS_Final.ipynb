{
  "nbformat": 4,
  "nbformat_minor": 0,
  "metadata": {
    "colab": {
      "provenance": [],
      "include_colab_link": true
    },
    "kernelspec": {
      "name": "python3",
      "display_name": "Python 3"
    },
    "language_info": {
      "name": "python"
    }
  },
  "cells": [
    {
      "cell_type": "markdown",
      "metadata": {
        "id": "view-in-github",
        "colab_type": "text"
      },
      "source": [
        "<a href=\"https://colab.research.google.com/github/yagel2/TDS_NYC_Airbnb/blob/main/TDS_Final.ipynb\" target=\"_parent\"><img src=\"https://colab.research.google.com/assets/colab-badge.svg\" alt=\"Open In Colab\"/></a>"
      ]
    },
    {
      "cell_type": "markdown",
      "source": [
        "# **TDS Final Project: Automated Feature Selection for Improving Predictive Model Robustness**\n",
        "\n",
        "---\n",
        "\n",
        "### **Course:** Tabular Data Science Exercise 2\n",
        "### **Author:** Yagel Alankry and Ido Keren\n"
      ],
      "metadata": {
        "id": "eW_FHbqv4fhe"
      }
    },
    {
      "cell_type": "markdown",
      "source": [
        "Load imports and data"
      ],
      "metadata": {
        "id": "i4WzTXYquLWb"
      }
    },
    {
      "cell_type": "code",
      "source": [
        "import pandas as pd\n",
        "import numpy as np\n",
        "from xgboost import XGBRegressor\n",
        "import matplotlib.pyplot as plt\n",
        "import shap\n",
        "from scipy.stats import pearsonr\n",
        "from sklearn.model_selection import train_test_split\n",
        "from sklearn.metrics import mean_absolute_error, mean_squared_error, r2_score\n",
        "\n",
        "!wget --no-clobber https://raw.githubusercontent.com/yagel2/TDS_NYC_Airbnb/main/AB_NYC_2019.csv\n",
        "!wget --no-clobber https://raw.githubusercontent.com/yagel2/TDS_NYC_Airbnb/main/'bestsellers with categories'.csv\n",
        "!wget --no-clobber https://raw.githubusercontent.com/yagel2/TDS_NYC_Airbnb/main/'global air pollution dataset'.csv\n",
        "!wget --no-clobber https://raw.githubusercontent.com/yagel2/TDS_NYC_Airbnb/main/Sleep_Efficiency.csv\n",
        "!wget --no-clobber https://raw.githubusercontent.com/yagel2/TDS_NYC_Airbnb/main/'Salary Data'.csv\n"
      ],
      "metadata": {
        "id": "vKquDR2HOvxu",
        "outputId": "22227d47-dc10-4357-bc2e-81e4fe4108e3",
        "colab": {
          "base_uri": "https://localhost:8080/"
        }
      },
      "execution_count": 1,
      "outputs": [
        {
          "output_type": "stream",
          "name": "stdout",
          "text": [
            "File ‘AB_NYC_2019.csv’ already there; not retrieving.\n",
            "\n",
            "File ‘bestsellers with categories.csv’ already there; not retrieving.\n",
            "\n",
            "File ‘global air pollution dataset.csv’ already there; not retrieving.\n",
            "\n",
            "File ‘Sleep_Efficiency.csv’ already there; not retrieving.\n",
            "\n",
            "File ‘Salary Data.csv’ already there; not retrieving.\n",
            "\n"
          ]
        }
      ]
    },
    {
      "cell_type": "markdown",
      "source": [
        "Feature selection is extremely important- choosing the wrong features could lead to overfitting, low efficiency and low interpretability.\n",
        "\n",
        "In our final project we wish to automate that as feature selection can be often confusing and tedious.\n",
        "\n",
        "Our general approach would be to try to find the features to learn where our model would have a good r^2 rating."
      ],
      "metadata": {
        "id": "pFXt8yHcFLlq"
      }
    },
    {
      "cell_type": "markdown",
      "source": [
        "We will go over the Automated process with the dataset of airbnb's in new york city, and find the best features to learn to predict the price."
      ],
      "metadata": {
        "id": "lbPcxDBOInOL"
      }
    },
    {
      "cell_type": "code",
      "source": [
        "df = pd.read_csv('AB_NYC_2019.csv')\n",
        "\n",
        "# Load data\n",
        "data = df.copy()\n",
        "\n",
        "# Fill empty values of reviews per month with 0\n",
        "data['reviews_per_month'] = data['reviews_per_month'].fillna(0)\n",
        "\n",
        "# Drop rows with missing values in the 'price' column\n",
        "data = data.dropna(subset=['price'])\n",
        "\n",
        "# One-hot encoding\n",
        "data = pd.get_dummies(data, columns=['neighbourhood_group', 'room_type'], drop_first=True)\n",
        "\n",
        "# Set target feature to price, and the features to learn it every numeric or boolean feature in the dataset\n",
        "y = data['price']\n",
        "X = data.select_dtypes(include=['number', 'bool']).drop(columns=['price'])"
      ],
      "metadata": {
        "id": "G3s9mOKkd-MC"
      },
      "execution_count": 2,
      "outputs": []
    },
    {
      "cell_type": "markdown",
      "source": [
        "We wish to conpare our automated feature selection to a naive solution, which would be to use all of the features."
      ],
      "metadata": {
        "id": "XHPr_opdOhBj"
      }
    },
    {
      "cell_type": "code",
      "source": [
        "# train-test split for evaluation\n",
        "X_train, X_test, y_train, y_test = train_test_split(X, y, test_size=0.2, random_state=42)\n",
        "\n",
        "# Retrain final model on training set\n",
        "xgb_model = XGBRegressor()\n",
        "xgb_model.fit(X_train, y_train)\n",
        "\n",
        "# Predictions\n",
        "y_pred = xgb_model.predict(X_test)\n",
        "\n",
        "# Naive model metrics\n",
        "mae_naive = mean_absolute_error(y_test, y_pred)\n",
        "mse_naive = mean_squared_error(y_test, y_pred)\n",
        "r2_naive = r2_score(y_test, y_pred)\n",
        "pearson_naive, _ = pearsonr(y_test, y_pred)\n",
        "\n",
        "# Print metrics comparison as a table\n",
        "metrics_comparison = pd.DataFrame({\n",
        "    'Metric': ['MAE', 'MSE', 'R²', 'Pearson'],\n",
        "    'Naive Solution': [mae_naive, mse_naive, r2_naive, pearson_naive]\n",
        "})\n",
        "\n",
        "print(metrics_comparison)"
      ],
      "metadata": {
        "id": "zBUvK-BjOyua",
        "outputId": "2953ff68-789a-41be-b897-79351e6f45c8",
        "colab": {
          "base_uri": "https://localhost:8080/"
        }
      },
      "execution_count": 3,
      "outputs": [
        {
          "output_type": "stream",
          "name": "stdout",
          "text": [
            "    Metric  Naive Solution\n",
            "0      MAE       67.251572\n",
            "1      MSE    45058.171875\n",
            "2       R²       -0.018534\n",
            "3  Pearson        0.371187\n"
          ]
        }
      ]
    },
    {
      "cell_type": "markdown",
      "source": [
        "The r^2 score is negative, meaning a better prediction would be to return for everyone the average. this happends due to overfitting."
      ],
      "metadata": {
        "id": "6sSde3lmPMyJ"
      }
    },
    {
      "cell_type": "markdown",
      "source": [
        "First, to improve interpretability we will look at every feature and its collinearity with the target feature. under a certain threshold of conllinearity we remove that feature."
      ],
      "metadata": {
        "id": "UgI8mM6fHkS2"
      }
    },
    {
      "cell_type": "code",
      "source": [
        "def remove_low_correlated_features(X, y, corr_threshold=0.05):\n",
        "  \"\"\"\n",
        "  Removes features that are not collerated with the target feature.\n",
        "  \"\"\"\n",
        "\n",
        "  correlations = X.corrwith(y)\n",
        "  important_corr_features = correlations[abs(correlations) > corr_threshold].index.tolist()\n",
        "  new_X = X[important_corr_features]\n",
        "\n",
        "  return new_X"
      ],
      "metadata": {
        "id": "a4A9aAiH023Y"
      },
      "execution_count": 4,
      "outputs": []
    },
    {
      "cell_type": "code",
      "source": [
        "print(f\"Features before correlation to target filter: {len(X.columns)}\")\n",
        "X = remove_low_correlated_features(X, y, corr_threshold=0.05)\n",
        "print(f\"Features after correlation to target filter: {len(X.columns)}\")"
      ],
      "metadata": {
        "id": "xG0pKDLtJt2l",
        "outputId": "124d84e1-5a50-4fb2-fe68-b5d82bab2199",
        "colab": {
          "base_uri": "https://localhost:8080/"
        }
      },
      "execution_count": 5,
      "outputs": [
        {
          "output_type": "stream",
          "name": "stdout",
          "text": [
            "Features before correlation to target filter: 15\n",
            "Features after correlation to target filter: 9\n"
          ]
        }
      ]
    },
    {
      "cell_type": "markdown",
      "source": [
        "Next, we would like to remove features that are too similar to one another. if two feature are similar the one that will be kept is the one that is more collinear to the target feature."
      ],
      "metadata": {
        "id": "8gfyhvjmJwax"
      }
    },
    {
      "cell_type": "code",
      "source": [
        "def remove_highly_correlated_features(X, y, corr_threshold=0.85):\n",
        "    \"\"\"\n",
        "    Removes one of each pair of features with high correlation.\n",
        "    Keeps the feature that is more correlated with the target.\n",
        "    \"\"\"\n",
        "    # Absolute correlation matrix\n",
        "    corr_matrix = X.corr().abs()\n",
        "\n",
        "    # Correlation of each feature with target\n",
        "    target_corr = X.corrwith(y).abs()\n",
        "\n",
        "    # Set of columns to remove\n",
        "    to_remove = set()\n",
        "\n",
        "    # Iterate through correlation matrix\n",
        "    for i in range(len(corr_matrix.columns)):\n",
        "        for j in range(i + 1, len(corr_matrix.columns)):\n",
        "            feature_1 = corr_matrix.columns[i]\n",
        "            feature_2 = corr_matrix.columns[j]\n",
        "\n",
        "            # Check if the pair is highly correlated\n",
        "            if corr_matrix.iloc[i, j] > corr_threshold:\n",
        "                # Compare correlation with target\n",
        "                if target_corr[feature_1] < target_corr[feature_2]:\n",
        "                    to_remove.add(feature_1)\n",
        "                else:\n",
        "                    to_remove.add(feature_2)\n",
        "\n",
        "    # Drop less relevant correlated features\n",
        "    X_filtered = X.drop(columns=list(to_remove))\n",
        "\n",
        "    return X_filtered"
      ],
      "metadata": {
        "id": "DVZZmbOYzIBx"
      },
      "execution_count": 6,
      "outputs": []
    },
    {
      "cell_type": "code",
      "source": [
        "X = remove_highly_correlated_features(X, y, corr_threshold=0.85)\n",
        "print(f\"Features left after removing highly correlated pairs: {len(X.columns)}\")"
      ],
      "metadata": {
        "id": "Rv1N2bfuKPuI",
        "outputId": "27a1023b-932a-438e-f442-14d807b99c71",
        "colab": {
          "base_uri": "https://localhost:8080/"
        }
      },
      "execution_count": 7,
      "outputs": [
        {
          "output_type": "stream",
          "name": "stdout",
          "text": [
            "Features left after removing highly correlated pairs: 9\n"
          ]
        }
      ]
    },
    {
      "cell_type": "markdown",
      "source": [
        "Now for the remaining features, we wish to rank them by importance. We train a XGBRegressor on the remaining feature, then calculate the features SHAP importance in the model and sort by most important."
      ],
      "metadata": {
        "id": "PuAck8zcKW5m"
      }
    },
    {
      "cell_type": "code",
      "source": [
        "def calculate_feature_importance(X, y):\n",
        "  \"\"\"\n",
        "  Calculates for each feature its importance in the XGBRegressor.\n",
        "  \"\"\"\n",
        "\n",
        "  # train-test split\n",
        "  X_train, X_test, y_train, y_test = train_test_split(X, y, test_size=0.2, random_state=42)\n",
        "\n",
        "  # Initialize and train XGBRegressor\n",
        "  xgb_model = XGBRegressor()\n",
        "  xgb_model.fit(X_train, y_train)\n",
        "\n",
        "  # Predictions (optional, if you need them)\n",
        "  y_pred_test = xgb_model.predict(X_test)\n",
        "  y_pred_train = xgb_model.predict(X_train)\n",
        "\n",
        "  # SHAP analysis using the trained regressor\n",
        "  explainer = shap.TreeExplainer(xgb_model)\n",
        "  shap_values = explainer.shap_values(X_train)\n",
        "\n",
        "  # Aggregate SHAP values\n",
        "  shap_importance = np.abs(shap_values).mean(axis=0)\n",
        "\n",
        "  # Rank features by SHAP importance\n",
        "  shap_importance_df = pd.DataFrame({\n",
        "      'feature': X_train.columns,\n",
        "      'importance': shap_importance\n",
        "  }).sort_values(by='importance', ascending=False)\n",
        "\n",
        "  return shap_importance_df"
      ],
      "metadata": {
        "id": "KHSpdsVd4qsq"
      },
      "execution_count": 8,
      "outputs": []
    },
    {
      "cell_type": "code",
      "source": [
        "shap_importance_df = calculate_feature_importance(X, y)\n",
        "print(shap_importance_df)"
      ],
      "metadata": {
        "id": "W5a3ZS1PMfbj",
        "outputId": "143870c4-f4cc-459e-c27c-c8f74c71e4b4",
        "colab": {
          "base_uri": "https://localhost:8080/"
        }
      },
      "execution_count": 9,
      "outputs": [
        {
          "output_type": "stream",
          "name": "stdout",
          "text": [
            "                          feature  importance\n",
            "7          room_type_Private room   53.217731\n",
            "0                       longitude   30.421877\n",
            "3                availability_365   26.885677\n",
            "1               reviews_per_month   19.281372\n",
            "5   neighbourhood_group_Manhattan   15.115685\n",
            "2  calculated_host_listings_count    9.147669\n",
            "8           room_type_Shared room    5.523805\n",
            "4    neighbourhood_group_Brooklyn    1.987292\n",
            "6      neighbourhood_group_Queens    1.696134\n"
          ]
        }
      ]
    },
    {
      "cell_type": "markdown",
      "source": [
        "Finally, we will iteratively add another feature (the next most important one) to the XGBRegressor model, then check the r^2 value. when the r^2 value starts to go down we stop as the model starts to overfit."
      ],
      "metadata": {
        "id": "QQV-nRq_LJei"
      }
    },
    {
      "cell_type": "code",
      "source": [
        "def calculate_best_features(X, y, shap_importance_df):\n",
        "  \"\"\"\n",
        "  Calculates the features to select.\n",
        "  \"\"\"\n",
        "\n",
        "  # Store the best r^2 we got in this variable(init to -1 as we got no r^2 yet)\n",
        "  best_r2 = -1\n",
        "\n",
        "  for top_k in range(1, len(shap_importance_df) + 1):\n",
        "    selected_features = shap_importance_df['feature'].iloc[:top_k].tolist()\n",
        "\n",
        "    # Final dataset\n",
        "    X_final = X[selected_features]\n",
        "\n",
        "    # train-test split for evaluation\n",
        "    X_train, X_test, y_train, y_test = train_test_split(X_final, y, test_size=0.2, random_state=42)\n",
        "\n",
        "    # Retrain final model on training set\n",
        "    xgb_model = XGBRegressor()\n",
        "    xgb_model.fit(X_train, y_train)\n",
        "\n",
        "    # Predictions\n",
        "    y_pred = xgb_model.predict(X_test)\n",
        "\n",
        "    # Evaluate r^2 metric\n",
        "    r2 = r2_score(y_test, y_pred)\n",
        "\n",
        "    # If model did better, update he value of the best r^2 we got.\n",
        "    if r2 > best_r2:\n",
        "      best_r2 = r2\n",
        "\n",
        "    # If model did worse, return the features without the last one.\n",
        "    else:\n",
        "      return selected_features[:-1]\n",
        "  return selected_features"
      ],
      "metadata": {
        "id": "elb4jECKp61w"
      },
      "execution_count": 10,
      "outputs": []
    },
    {
      "cell_type": "code",
      "source": [
        "selected_features = calculate_best_features(X, y, shap_importance_df)\n",
        "print(f\"The features selected: {selected_features}\")"
      ],
      "metadata": {
        "id": "5SpVFt5cMC0H",
        "outputId": "80ec1225-ef9d-4eca-f709-ab7fb5c29313",
        "colab": {
          "base_uri": "https://localhost:8080/"
        }
      },
      "execution_count": 11,
      "outputs": [
        {
          "output_type": "stream",
          "name": "stdout",
          "text": [
            "The features selected: ['room_type_Private room', 'longitude']\n"
          ]
        }
      ]
    },
    {
      "cell_type": "markdown",
      "source": [
        "Lets use those feature to predict the price."
      ],
      "metadata": {
        "id": "JReDiACxQkuq"
      }
    },
    {
      "cell_type": "code",
      "source": [
        "# train-test split for evaluation\n",
        "X_train, X_test, y_train, y_test = train_test_split(X[selected_features], y, test_size=0.2, random_state=42)\n",
        "\n",
        "# Retrain final model on training set\n",
        "xgb_model = XGBRegressor()\n",
        "xgb_model.fit(X_train, y_train)\n",
        "\n",
        "# Predictions\n",
        "y_pred = xgb_model.predict(X_test)\n",
        "\n",
        "# Selected features model metrics\n",
        "mae_new = mean_absolute_error(y_test, y_pred)\n",
        "mse_new = mean_squared_error(y_test, y_pred)\n",
        "r2_new = r2_score(y_test, y_pred)\n",
        "pearson_new, _ = pearsonr(y_test, y_pred)\n",
        "\n",
        "# Print metrics comparison as a table\n",
        "metrics_comparison = pd.DataFrame({\n",
        "    'Metric': ['MAE', 'MSE', 'R²', 'Pearson'],\n",
        "    'Naive Solution': [mae_naive, mse_naive, r2_naive, pearson_naive],\n",
        "    'Automated Solution': [mae_new, mse_new, r2_new, pearson_new]\n",
        "})\n",
        "\n",
        "print(metrics_comparison)"
      ],
      "metadata": {
        "id": "GWUhvKfaQxxj",
        "outputId": "0cbaf8fc-6dde-411f-9020-61d7313837ca",
        "colab": {
          "base_uri": "https://localhost:8080/"
        }
      },
      "execution_count": 12,
      "outputs": [
        {
          "output_type": "stream",
          "name": "stdout",
          "text": [
            "    Metric  Naive Solution  Automated Solution\n",
            "0      MAE       67.251572           71.160538\n",
            "1      MSE    45058.171875        40056.316406\n",
            "2       R²       -0.018534            0.094532\n",
            "3  Pearson        0.371187            0.310583\n"
          ]
        }
      ]
    },
    {
      "cell_type": "markdown",
      "source": [
        "We got a clear improvement from the naive solution in the r^2 metric, while also having significantly faster computation time."
      ],
      "metadata": {
        "id": "hIBbJtpTSFUh"
      }
    },
    {
      "cell_type": "markdown",
      "source": [
        "This is our process, the final function would look like this."
      ],
      "metadata": {
        "id": "Qo3gvSmBMCXf"
      }
    },
    {
      "cell_type": "code",
      "source": [
        "def select_features(X, y):\n",
        "  \"\"\"\n",
        "  Returns the features to select.\n",
        "  \"\"\"\n",
        "  X = remove_low_correlated_features(X, y, corr_threshold=0.05)\n",
        "  X = remove_highly_correlated_features(X, y, corr_threshold=0.85)\n",
        "  shap_importance_df = calculate_feature_importance(X, y)\n",
        "  selected_features = calculate_best_features(X, y, shap_importance_df)\n",
        "  return selected_features"
      ],
      "metadata": {
        "id": "ijejNLh6MQQi"
      },
      "execution_count": 13,
      "outputs": []
    },
    {
      "cell_type": "markdown",
      "source": [],
      "metadata": {
        "id": "eyjkKWbcM5or"
      }
    },
    {
      "cell_type": "code",
      "source": [
        "df = pd.read_csv('bestsellers with categories.csv')\n",
        "\n",
        "data = df.copy()\n",
        "\n",
        "# One-hot encoding\n",
        "data = pd.get_dummies(data, columns=['Genre', ], drop_first=True)\n",
        "\n",
        "\n",
        "X = data.select_dtypes(include=['number', 'bool']).drop(columns=['User Rating'])\n",
        "print(f\"Features before correlation to target filter: {len(X.columns)}\")\n",
        "y = data['User Rating']"
      ],
      "metadata": {
        "id": "aUucwrRSPHas",
        "outputId": "02b4a5db-3a8f-4ae5-d910-52c113b754c6",
        "colab": {
          "base_uri": "https://localhost:8080/"
        }
      },
      "execution_count": 14,
      "outputs": [
        {
          "output_type": "stream",
          "name": "stdout",
          "text": [
            "Features before correlation to target filter: 4\n"
          ]
        }
      ]
    },
    {
      "cell_type": "code",
      "source": [
        "selected_features = select_features(X, y)\n",
        "print(f\"The features selected: {selected_features}\")"
      ],
      "metadata": {
        "id": "mkmB6H6OSxDD",
        "outputId": "b1de05fa-457c-4ff9-ab5e-56f80c643083",
        "colab": {
          "base_uri": "https://localhost:8080/"
        }
      },
      "execution_count": 15,
      "outputs": [
        {
          "output_type": "stream",
          "name": "stdout",
          "text": [
            "The features selected: ['Price']\n"
          ]
        }
      ]
    },
    {
      "cell_type": "code",
      "source": [
        "# train-test split for evaluation\n",
        "X_train, X_test, y_train, y_test = train_test_split(X, y, test_size=0.2, random_state=42)\n",
        "\n",
        "# Retrain final model on training set\n",
        "xgb_model = XGBRegressor()\n",
        "xgb_model.fit(X_train, y_train)\n",
        "\n",
        "# Predictions\n",
        "y_pred = xgb_model.predict(X_test)\n",
        "\n",
        "# Naive model metrics\n",
        "mae_naive = mean_absolute_error(y_test, y_pred)\n",
        "mse_naive = mean_squared_error(y_test, y_pred)\n",
        "r2_naive = r2_score(y_test, y_pred)\n",
        "pearson_naive, _ = pearsonr(y_test, y_pred)\n",
        "\n",
        "# train-test split for evaluation\n",
        "X_train, X_test, y_train, y_test = train_test_split(X[selected_features], y, test_size=0.2, random_state=42)\n",
        "\n",
        "# Retrain final model on training set\n",
        "xgb_model = XGBRegressor()\n",
        "xgb_model.fit(X_train, y_train)\n",
        "\n",
        "# Predictions\n",
        "y_pred = xgb_model.predict(X_test)\n",
        "\n",
        "# Selected features model metrics\n",
        "mae_new = mean_absolute_error(y_test, y_pred)\n",
        "mse_new = mean_squared_error(y_test, y_pred)\n",
        "r2_new = r2_score(y_test, y_pred)\n",
        "pearson_new, _ = pearsonr(y_test, y_pred)\n",
        "\n",
        "# Print metrics comparison as a table\n",
        "metrics_comparison = pd.DataFrame({\n",
        "    'Metric': ['MAE', 'MSE', 'R²', 'Pearson'],\n",
        "    'Naive Solution': [mae_naive, mse_naive, r2_naive, pearson_naive],\n",
        "    'Automated Solution': [mae_new, mse_new, r2_new, pearson_new]\n",
        "})\n",
        "\n",
        "print(metrics_comparison)"
      ],
      "metadata": {
        "id": "SIK4WprhWzJ6",
        "outputId": "d045f313-3190-4fbf-c1b8-cb27c2472ddd",
        "colab": {
          "base_uri": "https://localhost:8080/"
        }
      },
      "execution_count": 16,
      "outputs": [
        {
          "output_type": "stream",
          "name": "stdout",
          "text": [
            "    Metric  Naive Solution  Automated Solution\n",
            "0      MAE        0.138993            0.158052\n",
            "1      MSE        0.050332            0.047388\n",
            "2       R²        0.122706            0.174018\n",
            "3  Pearson        0.439364            0.434407\n"
          ]
        }
      ]
    },
    {
      "cell_type": "code",
      "source": [
        "df = pd.read_csv('global air pollution dataset.csv')\n",
        "\n",
        "data = df.copy()\n",
        "\n",
        "# One-hot encoding\n",
        "data = pd.get_dummies(data, columns=['Country'], drop_first=True)\n",
        "data = data.fillna(0)\n",
        "\n",
        "X = data.select_dtypes(include=['number', 'bool']).drop(columns=['AQI Value', 'PM2.5 AQI Value'])\n",
        "print(f\"Features before correlation to target filter: {len(X.columns)}\")\n",
        "y = data['AQI Value']"
      ],
      "metadata": {
        "id": "V39Z-H0ci3el",
        "outputId": "182f0ace-53b3-411b-f9ce-e45e6cae7756",
        "colab": {
          "base_uri": "https://localhost:8080/"
        }
      },
      "execution_count": 17,
      "outputs": [
        {
          "output_type": "stream",
          "name": "stdout",
          "text": [
            "Features before correlation to target filter: 177\n"
          ]
        }
      ]
    },
    {
      "cell_type": "code",
      "source": [
        "selected_features = select_features(X, y)\n",
        "print(f\"The features selected: {selected_features}\")"
      ],
      "metadata": {
        "id": "J_NTE6tTS4e5",
        "outputId": "12c704a0-fc3f-4da9-a21e-8d15291a0d49",
        "colab": {
          "base_uri": "https://localhost:8080/"
        }
      },
      "execution_count": 18,
      "outputs": [
        {
          "output_type": "stream",
          "name": "stdout",
          "text": [
            "The features selected: ['Country_India', 'Ozone AQI Value', 'CO AQI Value', 'NO2 AQI Value', 'Country_United States of America', 'Country_Pakistan', 'Country_Russian Federation', 'Country_Mexico', 'Country_Japan']\n"
          ]
        }
      ]
    },
    {
      "cell_type": "code",
      "source": [
        "# train-test split for evaluation\n",
        "X_train, X_test, y_train, y_test = train_test_split(X, y, test_size=0.2, random_state=42)\n",
        "\n",
        "# Retrain final model on training set\n",
        "xgb_model = XGBRegressor()\n",
        "xgb_model.fit(X_train, y_train)\n",
        "\n",
        "# Predictions\n",
        "y_pred = xgb_model.predict(X_test)\n",
        "\n",
        "# Naive model metrics\n",
        "mae_naive = mean_absolute_error(y_test, y_pred)\n",
        "mse_naive = mean_squared_error(y_test, y_pred)\n",
        "r2_naive = r2_score(y_test, y_pred)\n",
        "pearson_naive, _ = pearsonr(y_test, y_pred)\n",
        "\n",
        "# train-test split for evaluation\n",
        "X_train, X_test, y_train, y_test = train_test_split(X[selected_features], y, test_size=0.2, random_state=42)\n",
        "\n",
        "# Retrain final model on training set\n",
        "xgb_model = XGBRegressor()\n",
        "xgb_model.fit(X_train, y_train)\n",
        "\n",
        "# Predictions\n",
        "y_pred = xgb_model.predict(X_test)\n",
        "\n",
        "# Selected features model metrics\n",
        "mae_new = mean_absolute_error(y_test, y_pred)\n",
        "mse_new = mean_squared_error(y_test, y_pred)\n",
        "r2_new = r2_score(y_test, y_pred)\n",
        "pearson_new, _ = pearsonr(y_test, y_pred)\n",
        "\n",
        "# Print metrics comparison as a table\n",
        "metrics_comparison = pd.DataFrame({\n",
        "    'Metric': ['MAE', 'MSE', 'R²', 'Pearson'],\n",
        "    'Naive Solution': [mae_naive, mse_naive, r2_naive, pearson_naive],\n",
        "    'Automated Solution': [mae_new, mse_new, r2_new, pearson_new]\n",
        "})\n",
        "\n",
        "print(metrics_comparison)"
      ],
      "metadata": {
        "id": "ZAA2ePq_XTwC",
        "outputId": "14ccd729-abce-456c-81d3-819fd8abe722",
        "colab": {
          "base_uri": "https://localhost:8080/"
        }
      },
      "execution_count": 19,
      "outputs": [
        {
          "output_type": "stream",
          "name": "stdout",
          "text": [
            "    Metric  Naive Solution  Automated Solution\n",
            "0      MAE       15.014386           16.808226\n",
            "1      MSE      884.824707          958.768250\n",
            "2       R²        0.722333            0.699129\n",
            "3  Pearson        0.849956            0.836156\n"
          ]
        }
      ]
    },
    {
      "cell_type": "code",
      "source": [
        "df = pd.read_csv('Sleep_Efficiency.csv')\n",
        "data = df.copy()\n",
        "\n",
        "# One-hot encoding\n",
        "data = pd.get_dummies(data, columns=['Gender'], drop_first=True)\n",
        "data = data.fillna(0)\n",
        "\n",
        "X = data.select_dtypes(include=['number', 'bool']).drop(columns=['Awakenings'])\n",
        "print(f\"Features before correlation to target filter: {len(X.columns)}\")\n",
        "y = data['Awakenings']"
      ],
      "metadata": {
        "id": "6E43pt8P8iBh",
        "outputId": "8c899eb0-3791-4f29-a14e-87aa9aa45dfd",
        "colab": {
          "base_uri": "https://localhost:8080/"
        }
      },
      "execution_count": 20,
      "outputs": [
        {
          "output_type": "stream",
          "name": "stdout",
          "text": [
            "Features before correlation to target filter: 11\n"
          ]
        }
      ]
    },
    {
      "cell_type": "code",
      "source": [
        "selected_features = select_features(X, y)\n",
        "print(f\"The features selected: {selected_features}\")"
      ],
      "metadata": {
        "id": "vgmUEbugTEV3",
        "outputId": "6c7f13ec-cb8b-497a-a6d0-270c915cb93b",
        "colab": {
          "base_uri": "https://localhost:8080/"
        }
      },
      "execution_count": 21,
      "outputs": [
        {
          "output_type": "stream",
          "name": "stdout",
          "text": [
            "The features selected: ['Sleep efficiency']\n"
          ]
        }
      ]
    },
    {
      "cell_type": "code",
      "source": [
        "# train-test split for evaluation\n",
        "X_train, X_test, y_train, y_test = train_test_split(X, y, test_size=0.2, random_state=42)\n",
        "\n",
        "# Retrain final model on training set\n",
        "xgb_model = XGBRegressor()\n",
        "xgb_model.fit(X_train, y_train)\n",
        "\n",
        "# Predictions\n",
        "y_pred = xgb_model.predict(X_test)\n",
        "\n",
        "# Naive model metrics\n",
        "mae_naive = mean_absolute_error(y_test, y_pred)\n",
        "mse_naive = mean_squared_error(y_test, y_pred)\n",
        "r2_naive = r2_score(y_test, y_pred)\n",
        "pearson_naive, _ = pearsonr(y_test, y_pred)\n",
        "\n",
        "# train-test split for evaluation\n",
        "X_train, X_test, y_train, y_test = train_test_split(X[selected_features], y, test_size=0.2, random_state=42)\n",
        "\n",
        "# Retrain final model on training set\n",
        "xgb_model = XGBRegressor()\n",
        "xgb_model.fit(X_train, y_train)\n",
        "\n",
        "# Predictions\n",
        "y_pred = xgb_model.predict(X_test)\n",
        "\n",
        "# Selected features model metrics\n",
        "mae_new = mean_absolute_error(y_test, y_pred)\n",
        "mse_new = mean_squared_error(y_test, y_pred)\n",
        "r2_new = r2_score(y_test, y_pred)\n",
        "pearson_new, _ = pearsonr(y_test, y_pred)\n",
        "\n",
        "# Print metrics comparison as a table\n",
        "metrics_comparison = pd.DataFrame({\n",
        "    'Metric': ['MAE', 'MSE', 'R²', 'Pearson'],\n",
        "    'Naive Solution': [mae_naive, mse_naive, r2_naive, pearson_naive],\n",
        "    'Automated Solution': [mae_new, mse_new, r2_new, pearson_new]\n",
        "})\n",
        "\n",
        "print(metrics_comparison)"
      ],
      "metadata": {
        "id": "DBS26Z9XXpuU",
        "outputId": "af7306f8-0392-4bfa-d439-58321830042f",
        "colab": {
          "base_uri": "https://localhost:8080/"
        }
      },
      "execution_count": 22,
      "outputs": [
        {
          "output_type": "stream",
          "name": "stdout",
          "text": [
            "    Metric  Naive Solution  Automated Solution\n",
            "0      MAE        0.877765            0.866788\n",
            "1      MSE        1.314584            1.115915\n",
            "2       R²        0.246117            0.360049\n",
            "3  Pearson        0.566999            0.631695\n"
          ]
        }
      ]
    },
    {
      "cell_type": "code",
      "source": [
        "df = pd.read_csv('Salary Data.csv')\n",
        "data = df.copy()\n",
        "\n",
        "# One-hot encoding\n",
        "data = pd.get_dummies(data, columns=['Education Level', 'Job Title'], drop_first=True)\n",
        "data = data.fillna(0)\n",
        "\n",
        "X = data.select_dtypes(include=['number', 'bool']).drop(columns=['Salary', 'Age', 'Years of Experience'])\n",
        "print(f\"Features before correlation to target filter: {len(X.columns)}\")\n",
        "y = data['Salary']"
      ],
      "metadata": {
        "id": "irNkTHBh_7uB",
        "outputId": "9bf311ce-73f6-4d7d-8e9a-bda46e095cde",
        "colab": {
          "base_uri": "https://localhost:8080/"
        }
      },
      "execution_count": 23,
      "outputs": [
        {
          "output_type": "stream",
          "name": "stdout",
          "text": [
            "Features before correlation to target filter: 175\n"
          ]
        }
      ]
    },
    {
      "cell_type": "code",
      "source": [
        "selected_features = select_features(X, y)\n",
        "print(f\"The features selected: {selected_features}\")"
      ],
      "metadata": {
        "id": "EQsCkG8VTJDL",
        "outputId": "7b1ccbb2-3e79-42f0-b6b0-41c087ea70c0",
        "colab": {
          "base_uri": "https://localhost:8080/"
        }
      },
      "execution_count": 24,
      "outputs": [
        {
          "output_type": "stream",
          "name": "stdout",
          "text": [
            "The features selected: [\"Education Level_Master's\", 'Education Level_PhD', 'Job Title_Director of Marketing', 'Job Title_Director of Operations']\n"
          ]
        }
      ]
    },
    {
      "cell_type": "code",
      "source": [
        "# train-test split for evaluation\n",
        "X_train, X_test, y_train, y_test = train_test_split(X, y, test_size=0.2, random_state=42)\n",
        "\n",
        "# Retrain final model on training set\n",
        "xgb_model = XGBRegressor()\n",
        "xgb_model.fit(X_train, y_train)\n",
        "\n",
        "# Predictions\n",
        "y_pred = xgb_model.predict(X_test)\n",
        "\n",
        "# Naive model metrics\n",
        "mae_naive = mean_absolute_error(y_test, y_pred)\n",
        "mse_naive = mean_squared_error(y_test, y_pred)\n",
        "r2_naive = r2_score(y_test, y_pred)\n",
        "pearson_naive, _ = pearsonr(y_test, y_pred)\n",
        "\n",
        "# train-test split for evaluation\n",
        "X_train, X_test, y_train, y_test = train_test_split(X[selected_features], y, test_size=0.2, random_state=42)\n",
        "\n",
        "# Retrain final model on training set\n",
        "xgb_model = XGBRegressor()\n",
        "xgb_model.fit(X_train, y_train)\n",
        "\n",
        "# Predictions\n",
        "y_pred = xgb_model.predict(X_test)\n",
        "\n",
        "# Selected features model metrics\n",
        "mae_new = mean_absolute_error(y_test, y_pred)\n",
        "mse_new = mean_squared_error(y_test, y_pred)\n",
        "r2_new = r2_score(y_test, y_pred)\n",
        "pearson_new, _ = pearsonr(y_test, y_pred)\n",
        "\n",
        "# Print metrics comparison as a table\n",
        "metrics_comparison = pd.DataFrame({\n",
        "    'Metric': ['MAE', 'MSE', 'R²', 'Pearson'],\n",
        "    'Naive Solution': [mae_naive, mse_naive, r2_naive, pearson_naive],\n",
        "    'Automated Solution': [mae_new, mse_new, r2_new, pearson_new]\n",
        "})\n",
        "\n",
        "print(metrics_comparison)"
      ],
      "metadata": {
        "id": "EEs9vMV-XuSO",
        "outputId": "057fc489-c9a7-493c-858c-78cd89498bec",
        "colab": {
          "base_uri": "https://localhost:8080/"
        }
      },
      "execution_count": 25,
      "outputs": [
        {
          "output_type": "stream",
          "name": "stdout",
          "text": [
            "    Metric  Naive Solution  Automated Solution\n",
            "0      MAE    2.300873e+04        2.867377e+04\n",
            "1      MSE    1.261343e+09        1.477723e+09\n",
            "2       R²    5.068992e-01        4.223091e-01\n",
            "3  Pearson    7.175122e-01        6.558439e-01\n"
          ]
        }
      ]
    }
  ]
}
