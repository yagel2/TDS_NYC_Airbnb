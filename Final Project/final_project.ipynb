{
  "nbformat": 4,
  "nbformat_minor": 0,
  "metadata": {
    "colab": {
      "provenance": [],
      "authorship_tag": "ABX9TyMAhvCsLRW3STsKoaLe1aMw",
      "include_colab_link": true
    },
    "kernelspec": {
      "name": "python3",
      "display_name": "Python 3"
    },
    "language_info": {
      "name": "python"
    }
  },
  "cells": [
    {
      "cell_type": "markdown",
      "metadata": {
        "id": "view-in-github",
        "colab_type": "text"
      },
      "source": [
        "<a href=\"https://colab.research.google.com/github/yagel2/TDS_NYC_Airbnb/blob/main/Final%20Project/Untitled0.ipynb\" target=\"_parent\"><img src=\"https://colab.research.google.com/assets/colab-badge.svg\" alt=\"Open In Colab\"/></a>"
      ]
    },
    {
      "cell_type": "code",
      "execution_count": null,
      "metadata": {
        "id": "kvPLjA-Alxdz"
      },
      "outputs": [],
      "source": [
        "import pandas as pd\n",
        "\n",
        "# Load the dataset (adjust the path or use a dataset URL)\n",
        "df = pd.read_csv('your_dataset.csv')\n",
        "\n",
        "# Preprocess: fill missing values, encode categorical columns\n",
        "df = df.fillna(0)  # Example of filling missing values\n",
        "df = pd.get_dummies(df)  # Convert categorical variables into dummy variables\n",
        "\n",
        "# Split into features and target (change 'target_column' to your actual target column name)\n",
        "X = df.drop(columns='target_column')\n",
        "y = df['target_column']\n",
        "\n",
        "# Show first few rows of the data\n",
        "df.head()"
      ]
    }
  ]
}
