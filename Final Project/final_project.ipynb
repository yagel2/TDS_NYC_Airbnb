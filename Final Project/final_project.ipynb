{
  "nbformat": 4,
  "nbformat_minor": 0,
  "metadata": {
    "colab": {
      "provenance": [],
      "authorship_tag": "ABX9TyPEDZnp/a1srn02wSI1ffJA",
      "include_colab_link": true
    },
    "kernelspec": {
      "name": "python3",
      "display_name": "Python 3"
    },
    "language_info": {
      "name": "python"
    }
  },
  "cells": [
    {
      "cell_type": "markdown",
      "metadata": {
        "id": "view-in-github",
        "colab_type": "text"
      },
      "source": [
        "<a href=\"https://colab.research.google.com/github/yagel2/TDS_NYC_Airbnb/blob/main/Final%20Project/final_project.ipynb\" target=\"_parent\"><img src=\"https://colab.research.google.com/assets/colab-badge.svg\" alt=\"Open In Colab\"/></a>"
      ]
    },
    {
      "cell_type": "markdown",
      "source": [
        "Load and Preprocess Data\n",
        "Load the dataset, handle missing values, and split the dataset into features (X) and target (y). Adjust the code below to match your dataset structure."
      ],
      "metadata": {
        "id": "j4lYgABsm475"
      }
    },
    {
      "cell_type": "code",
      "execution_count": null,
      "metadata": {
        "id": "kvPLjA-Alxdz"
      },
      "outputs": [],
      "source": [
        "import pandas as pd\n",
        "\n",
        "!wget  --no-clobber https://raw.githubusercontent.com/yagel2/TDS_NYC_Airbnb/main/AB_NYC_2019.csv\n",
        "\n",
        "# Load the dataset (adjust the path or use a dataset URL)\n",
        "df = pd.read_csv('AB_NYC_2019.csv')\n",
        "\n",
        "# Preprocess: fill missing values, encode categorical columns\n",
        "df = df.fillna(0)  # Example of filling missing values\n",
        "df = pd.get_dummies(df)  # Convert categorical variables into dummy variables\n",
        "\n",
        "# Split into features and target (change 'target_column' to your actual target column name)\n",
        "X = df.drop(columns='target_column')\n",
        "y = df['target_column']\n",
        "\n",
        "# Show first few rows of the data\n",
        "df.head()"
      ]
    },
    {
      "cell_type": "markdown",
      "source": [
        "Feature Selection Methods\n",
        "A. SHAP-based Feature Selection\n",
        "SHAP values are useful for understanding the contribution of each feature in a model's prediction. You can use SHAP with models like XGBoost to identify feature importance."
      ],
      "metadata": {
        "id": "6AunBkF7m8Sc"
      }
    },
    {
      "cell_type": "code",
      "source": [
        "import shap\n",
        "import xgboost as xgb\n",
        "\n",
        "# Train an XGBoost model\n",
        "model = xgb.XGBRegressor()\n",
        "model.fit(X, y)\n",
        "\n",
        "# Create a SHAP explainer and compute SHAP values\n",
        "explainer = shap.Explainer(model)\n",
        "shap_values = explainer(X)\n",
        "\n",
        "# Visualize the SHAP summary plot\n",
        "shap.summary_plot(shap_values, X)\n",
        "\n",
        "# Get feature importance based on SHAP values\n",
        "shap_importance = shap_values.abs.mean(axis=0)\n",
        "important_features = X.columns[shap_importance.argsort()[-10:]]  # Top 10 important features\n",
        "X_selected = X[important_features]\n",
        "\n",
        "# Display the selected features\n",
        "X_selected.head()\n"
      ],
      "metadata": {
        "id": "xag4SEMVnBBV"
      },
      "execution_count": null,
      "outputs": []
    },
    {
      "cell_type": "markdown",
      "source": [
        "B. Recursive Feature Elimination (RFE)\n",
        "RFE recursively removes features and evaluates the model performance to identify the most important features."
      ],
      "metadata": {
        "id": "PK7MkjpZnEjD"
      }
    },
    {
      "cell_type": "code",
      "source": [
        "from sklearn.feature_selection import RFE\n",
        "from sklearn.ensemble import RandomForestRegressor\n",
        "\n",
        "# Initialize RandomForestRegressor model\n",
        "model = RandomForestRegressor()\n",
        "\n",
        "# RFE: Select top 10 features\n",
        "selector = RFE(model, n_features_to_select=10)\n",
        "X_selected_rfe = selector.fit_transform(X, y)\n",
        "\n",
        "# Get the selected features\n",
        "selected_features_rfe = X.columns[selector.support_]\n",
        "X_selected_rfe = X[selected_features_rfe]\n",
        "\n",
        "# Display selected features\n",
        "X_selected_rfe.head()\n"
      ],
      "metadata": {
        "id": "Lz0IbHNsnHZ3"
      },
      "execution_count": null,
      "outputs": []
    },
    {
      "cell_type": "markdown",
      "source": [
        "C. Permutation Importance\n",
        "Permutation importance shuffles feature values and checks the impact on model performance."
      ],
      "metadata": {
        "id": "h4NHymHKnJgR"
      }
    },
    {
      "cell_type": "code",
      "source": [
        "from sklearn.inspection import permutation_importance\n",
        "\n",
        "# Train a RandomForest model\n",
        "model = RandomForestRegressor()\n",
        "model.fit(X, y)\n",
        "\n",
        "# Compute permutation importance\n",
        "result = permutation_importance(model, X, y, n_repeats=10, random_state=42)\n",
        "\n",
        "# Get sorted feature importances\n",
        "sorted_idx = result.importances_mean.argsort()\n",
        "\n",
        "# Select top 10 features based on permutation importance\n",
        "top_features_perm = X.columns[sorted_idx[:10]]\n",
        "X_selected_perm = X[top_features_perm]\n",
        "\n",
        "# Display selected features\n",
        "X_selected_perm.head()"
      ],
      "metadata": {
        "id": "un-jLBDmnL9q"
      },
      "execution_count": null,
      "outputs": []
    },
    {
      "cell_type": "markdown",
      "source": [
        "Compare Model Performance\n",
        "Now, compare the performance of models before and after feature selection using metrics such as R² and RMSE. For comparison, we’ll train models on the full dataset as well as on the selected feature set."
      ],
      "metadata": {
        "id": "VUGoxHjynN6y"
      }
    },
    {
      "cell_type": "code",
      "source": [
        "from sklearn.metrics import mean_squared_error, r2_score\n",
        "import numpy as np\n",
        "\n",
        "# Train model on full features\n",
        "model_full = RandomForestRegressor()\n",
        "model_full.fit(X, y)\n",
        "y_pred_full = model_full.predict(X)\n",
        "rmse_full = np.sqrt(mean_squared_error(y, y_pred_full))\n",
        "r2_full = r2_score(y, y_pred_full)\n",
        "\n",
        "# Train model on selected features\n",
        "model_selected = RandomForestRegressor()\n",
        "model_selected.fit(X_selected, y)\n",
        "y_pred_selected = model_selected.predict(X_selected)\n",
        "rmse_selected = np.sqrt(mean_squared_error(y, y_pred_selected))\n",
        "r2_selected = r2_score(y, y_pred_selected)\n",
        "\n",
        "# Display the comparison of performance metrics\n",
        "print(f\"RMSE (Full Features): {rmse_full}\")\n",
        "print(f\"R² (Full Features): {r2_full}\")\n",
        "print(f\"RMSE (Selected Features): {rmse_selected}\")\n",
        "print(f\"R² (Selected Features): {r2_selected}\")"
      ],
      "metadata": {
        "id": "jdPxct5LnQMs"
      },
      "execution_count": null,
      "outputs": []
    },
    {
      "cell_type": "markdown",
      "source": [
        " Visualize Feature Importance\n",
        "It’s helpful to visualize the importance of selected features to understand their impact on the model’s prediction."
      ],
      "metadata": {
        "id": "LelkTLFqnSjo"
      }
    },
    {
      "cell_type": "code",
      "source": [
        "import matplotlib.pyplot as plt\n",
        "import seaborn as sns\n",
        "\n",
        "# Plot feature importance based on SHAP\n",
        "shap.summary_plot(shap_values, X)\n",
        "\n",
        "# Alternatively, plot the top features based on permutation importance\n",
        "plt.figure(figsize=(10, 6))\n",
        "sns.barplot(x=shap_importance, y=X.columns)\n",
        "plt.title(\"Top Features Based on SHAP Values\")\n",
        "plt.show()\n",
        "\n",
        "# Or plot the permutation importance\n",
        "plt.figure(figsize=(10, 6))\n",
        "sns.barplot(x=result.importances_mean[sorted_idx[:10]], y=top_features_perm)\n",
        "plt.title(\"Top Features Based on Permutation Importance\")\n",
        "plt.show()\n"
      ],
      "metadata": {
        "id": "XrUwvhLXnUzb"
      },
      "execution_count": null,
      "outputs": []
    },
    {
      "cell_type": "markdown",
      "source": [],
      "metadata": {
        "id": "UCX3Ei5tnbUI"
      }
    }
  ]
}